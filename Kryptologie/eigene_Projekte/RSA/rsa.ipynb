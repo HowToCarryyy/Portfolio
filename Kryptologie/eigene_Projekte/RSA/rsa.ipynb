{
 "cells": [
  {
   "cell_type": "code",
   "execution_count": 2,
   "metadata": {},
   "outputs": [],
   "source": [
    "import random\n",
    "import numpy as np"
   ]
  },
  {
   "cell_type": "code",
   "execution_count": 3,
   "metadata": {},
   "outputs": [],
   "source": [
    "lorem_ipsum = \"Lorem ipsum dolor sit amet, consetetur sadipscing elitr, sed diam nonumy eirmod tempor invidunt ut labore et dolore magna aliquyam erat, sed diam voluptua. At vero eos et accusam et justo duo dolores et ea rebum. Stet clita kasd gubergren, no sea takimata sanctus est Lorem ipsum dolor sit amet. Lorem ipsum dolor sit amet, consetetur sadipscing elitr, sed diam nonumy eirmod tempor invidunt ut labore et dolore magna aliquyam erat, sed diam voluptua. At vero eos et accusam et justo duo dolores et ea rebum. Stet clita kasd gubergren, no sea takimata sanctus est Lorem ipsum dolor sit amet. Lorem ipsum dolor sit amet, consetetur sadipscing elitr, sed diam nonumy eirmod tempor invidunt ut labore et dolore magna aliquyam erat, sed diam voluptua. At vero eos et accusam et justo duo dolores et ea rebum. Stet clita kasd gubergren, no sea takimata sanctus est Lorem ipsum dolor sit amet.   Duis autem vel eum iriure dolor in hendrerit in vulputate velit esse molestie consequat, vel illum dolore eu feugiat nulla facilisis at vero eros et accumsan et iusto odio dignissim qui blandit praesent luptatum zzril delenit augue duis dolore te feugait nulla facilisi. Lorem ipsum dolor sit amet, consectetuer adipiscing elit, sed diam nonummy nibh euismod tincidunt ut laoreet dolore magna aliquam erat volutpat.   Ut wisi enim ad minim veniam, quis nostrud exerci tation ullamcorper suscipit lobortis nisl ut aliquip ex ea commodo consequat. Duis autem vel eum iriure dolor in hendrerit in vulputate velit esse molestie consequat, vel illum dolore eu feugiat nulla facilisis at vero eros et accumsan et iusto odio dignissim qui blandit praesent luptatum zzril delenit augue duis dolore te feugait nulla facilisi.   Nam liber tempor cum soluta nobis eleifend option congue nihil imperdiet doming id quod mazim placerat facer possim assum. Lorem ipsum dolor sit amet, consectetuer adipiscing elit, sed diam nonummy nibh euismod tincidunt ut laoreet dolore magna aliquam erat volutpat. Ut wisi enim ad minim veniam, quis nostrud exerci tation ullamcorper suscipit lobortis nisl ut aliquip ex ea commodo consequat.   Duis autem vel eum iriure dolor in hendrerit in vulputate velit esse molestie consequat, vel illum dolore eu feugiat nulla facilisis.   At vero eos et accusam et justo duo dolores et ea rebum. Stet clita kasd gubergren, no sea takimata sanctus est Lorem ipsum dolor sit amet. Lorem ipsum dolor sit amet, consetetur\""
   ]
  },
  {
   "cell_type": "code",
   "execution_count": 4,
   "metadata": {},
   "outputs": [
    {
     "name": "stdout",
     "output_type": "stream",
     "text": [
      "1000000840000010100000115000001160000011500000100000000320000009700000106000000510000005000000052000001010000011900000102\n",
      "Testsd aj324ewf\n"
     ]
    }
   ],
   "source": [
    "testText = \"Testsd aj324ewf\"\n",
    "numbersTestText  = \"1\"\n",
    "for i in testText:\n",
    "    numbersTestText += (str(ord(i)).zfill(8))\n",
    "print(numbersTestText)\n",
    "\n",
    "generatedTestText = \"\"\n",
    "for i in range(1, len(numbersTestText), 8):\n",
    "    generatedTestText += chr(int(numbersTestText[i:i+8]))\n",
    "\n",
    "print(generatedTestText)"
   ]
  },
  {
   "cell_type": "code",
   "execution_count": 5,
   "metadata": {},
   "outputs": [
    {
     "name": "stdout",
     "output_type": "stream",
     "text": [
      "8\n"
     ]
    }
   ],
   "source": [
    "### RSA basics\n",
    "p = 5\n",
    "q = 11\n",
    "n = p * q\n",
    "m = (p - 1) * (q - 1)\n",
    "a = 7\n",
    "xd = 8\n",
    "\n",
    "y = pow(xd, a, n)\n",
    "\n",
    "b = pow(a, -1, m)\n",
    "\n",
    "xe = pow(y, b, n)\n",
    "print(xe)"
   ]
  },
  {
   "cell_type": "code",
   "execution_count": 6,
   "metadata": {},
   "outputs": [],
   "source": [
    "### Functions for RSA\n",
    "\n",
    "def isPrimeMRT(p, k):\n",
    "    c = 0\n",
    "    while k > 0:\n",
    "        if MillerRabinTest(p) == False:\n",
    "            return False\n",
    "        k -= 1\n",
    "        \n",
    "    return True\n",
    "    \n",
    "\n",
    "def MillerRabinTest(p):\n",
    "        d = p - 1\n",
    "        r = 0\n",
    "\n",
    "        while d % 2 == 0:\n",
    "            d //= 2\n",
    "            r += 1\n",
    "        a = random.randint(2, p - 1)\n",
    "\n",
    "        x = pow(a, d, p)\n",
    "\n",
    "        if x == 1 or x == p - 1:\n",
    "            return True\n",
    "        while r > 1:\n",
    "            x = pow(x, 2, p)\n",
    "            if x == 1:\n",
    "                return False\n",
    "            if x == p - 1:\n",
    "                return True\n",
    "            r -= 1\n",
    "        return False\n",
    "\n",
    "    \n",
    "\n",
    "def generatePrimeNumber(length):\n",
    "    a = \"1\"\n",
    "    z = \"9\"\n",
    "    for i in range(length):\n",
    "        a += \"0\"\n",
    "        z += \"9\"\n",
    "    while True:\n",
    "        number = random.randint(int(a), int(z))\n",
    "        if isPrimeMRT(number, 8):\n",
    "            return number\n",
    "\n",
    "def generatePQNM(lowerValue, upperValue):\n",
    "    p = generatePrimeNumber(random.randint(lowerValue, upperValue))\n",
    "    q = generatePrimeNumber(random.randint(lowerValue, upperValue))\n",
    "    n = p * q\n",
    "    m = (p - 1) * (q - 1)\n",
    "\n",
    "    return {\"p\": p,\"q\": q,\"n\": n,\"m\": m}\n",
    "\n",
    "def EuclideanAlgorithmIsOne(a, n):\n",
    "    if a == 1 and n == 0:\n",
    "        return True\n",
    "    elif n == 0:\n",
    "        return False\n",
    "    return EuclideanAlgorithmIsOne(int(n), int(int(a) % int(n)))\n",
    "\n",
    "\n",
    "def generateCoprime(n):\n",
    "    while True:\n",
    "        a = random.randint(2, n - 1)\n",
    "        if EuclideanAlgorithmIsOne(a, n) == True:\n",
    "            return a\n",
    "\n",
    "def extendedEuclideanAlgorithm(array1, array2):\n",
    "    if array2[0] == 1:\n",
    "        return array2[2]\n",
    "    values1 = np.array(array1)\n",
    "    values2 = np.array(array2)\n",
    "    factor = values1[0] // values2[0]\n",
    "    values2 = np.subtract(values1, np.multiply(factor, values2))\n",
    "    return extendedEuclideanAlgorithm(array2, values2)\n",
    "\n",
    "def messageToNumbers(text):\n",
    "    numbersList = [ord(i) for i in text]\n",
    "    return numbersList\n",
    "\n",
    "def numbersToMessage(nums):\n",
    "    numbersList = [chr(i) for i in nums]\n",
    "    return \"\".join(numbersList)\n"
   ]
  },
  {
   "cell_type": "code",
   "execution_count": 7,
   "metadata": {},
   "outputs": [
    {
     "data": {
      "text/plain": [
       "{'Encrypted Message': [1, 1], 'Decrypted Message': [1, 1]}"
      ]
     },
     "execution_count": 7,
     "metadata": {},
     "output_type": "execute_result"
    }
   ],
   "source": [
    "### Main function for RSA\n",
    "\n",
    "def RSA():\n",
    "    message = \"11\"\n",
    "    nums = generatePQNM(100, 200)\n",
    "    a = generateCoprime(nums[\"m\"])\n",
    "    encryptedMessage = []\n",
    "    for i in message:\n",
    "        encryptedMessage.append(pow(int(i), a, nums[\"n\"]))\n",
    "    \n",
    "    b = extendedEuclideanAlgorithm([nums[\"m\"], 1, 0],[a, 0, 1])\n",
    "    decryptedMessage = []\n",
    "    for i in encryptedMessage:\n",
    "        decryptedMessage.append(pow(i, b, nums[\"n\"]))\n",
    "    \n",
    "    return {\"Encrypted Message\": encryptedMessage, \"Decrypted Message\": decryptedMessage}\n",
    "\n",
    "RSA()\n"
   ]
  },
  {
   "cell_type": "code",
   "execution_count": 8,
   "metadata": {},
   "outputs": [
    {
     "name": "stdout",
     "output_type": "stream",
     "text": [
      "197976336794958091455545653356033048666\n"
     ]
    }
   ],
   "source": [
    "list = [1,\n",
    "  9,\n",
    "  7,\n",
    "  9,\n",
    "  7,\n",
    "  6,\n",
    "  3,\n",
    "  3,\n",
    "  6,\n",
    "  7,\n",
    "  9,\n",
    "  4,\n",
    "  9,\n",
    "  5,\n",
    "  8,\n",
    "  0,\n",
    "  9,\n",
    "  1,\n",
    "  4,\n",
    "  5,\n",
    "  5,\n",
    "  5,\n",
    "  4,\n",
    "  5,\n",
    "  6,\n",
    "  5,\n",
    "  3,\n",
    "  3,\n",
    "  5,\n",
    "  6,\n",
    "  0,\n",
    "  3,\n",
    "  3,\n",
    "  0,\n",
    "  4,\n",
    "  8,\n",
    "  6,\n",
    "  6,\n",
    "  6]\n",
    "\n",
    "list = [str(i) for i in list]\n",
    "print(int(\"\".join(list)))"
   ]
  },
  {
   "cell_type": "code",
   "execution_count": 9,
   "metadata": {},
   "outputs": [],
   "source": [
    "from Crypto.Cipher import AES\n",
    "from Crypto.Random import get_random_bytes"
   ]
  },
  {
   "cell_type": "code",
   "execution_count": 10,
   "metadata": {},
   "outputs": [],
   "source": [
    "\n",
    "def encrypt_symmetric(text):\n",
    "    key = get_random_bytes(16)\n",
    "    cipher = AES.new(key, AES.MODE_EAX)\n",
    "\n",
    "    nonce = cipher.nonce\n",
    "    data = text.encode('ascii')\n",
    "\n",
    "    ciphertext, tag = cipher.encrypt_and_digest(data)\n",
    "    return {\"nonce\": nonce, \"ciphertext\": ciphertext, \"tag\": tag, \"key\":key}\n",
    "\n",
    "def decrypt_symmetric(info):\n",
    "    cipher = AES.new(info[\"key\"], AES.MODE_EAX, nonce=info[\"nonce\"])\n",
    "    plaintext = cipher.decrypt(info[\"ciphertext\"])\n",
    "    try:\n",
    "        cipher.verify(info[\"tag\"])\n",
    "        return plaintext.decode(\"utf-8\")\n",
    "    except ValueError:\n",
    "        return(\"Key incorrect or message corrupted\")"
   ]
  },
  {
   "cell_type": "code",
   "execution_count": 11,
   "metadata": {},
   "outputs": [
    {
     "name": "stdout",
     "output_type": "stream",
     "text": [
      "b'\\x96\\tw\\xad\\xce\\x9a*\\x93\\x98\\x8c\\\\4.\\x00\\xcd\\x1d'\n",
      "199433357416619431562212345495318220061\n",
      "b'\\x96\\tw\\xad\\xce\\x9a*\\x93\\x98\\x8c\\\\4.\\x00\\xcd\\x1d'\n"
     ]
    }
   ],
   "source": [
    "info = encrypt_symmetric(lorem_ipsum)\n",
    "print(info[\"nonce\"])\n",
    "info0int = int.from_bytes(info[\"nonce\"], \"big\")\n",
    "print(info0int)\n",
    "info0bytes = info0int.to_bytes((info0int.bit_length() + 7) // 8, \"big\")\n",
    "print(info0bytes)"
   ]
  },
  {
   "cell_type": "code",
   "execution_count": 13,
   "metadata": {},
   "outputs": [
    {
     "ename": "KeyboardInterrupt",
     "evalue": "",
     "output_type": "error",
     "traceback": [
      "\u001b[0;31m---------------------------------------------------------------------------\u001b[0m",
      "\u001b[0;31mKeyboardInterrupt\u001b[0m                         Traceback (most recent call last)",
      "File \u001b[0;32m<timed eval>:1\u001b[0m\n",
      "Cell \u001b[0;32mIn [6], line 45\u001b[0m, in \u001b[0;36mgeneratePrimeNumber\u001b[0;34m(length)\u001b[0m\n\u001b[1;32m     43\u001b[0m \u001b[39mwhile\u001b[39;00m \u001b[39mTrue\u001b[39;00m:\n\u001b[1;32m     44\u001b[0m     number \u001b[39m=\u001b[39m random\u001b[39m.\u001b[39mrandint(\u001b[39mint\u001b[39m(a), \u001b[39mint\u001b[39m(z))\n\u001b[0;32m---> 45\u001b[0m     \u001b[39mif\u001b[39;00m isPrimeMRT(number, \u001b[39m8\u001b[39;49m):\n\u001b[1;32m     46\u001b[0m         \u001b[39mreturn\u001b[39;00m number\n",
      "Cell \u001b[0;32mIn [6], line 6\u001b[0m, in \u001b[0;36misPrimeMRT\u001b[0;34m(p, k)\u001b[0m\n\u001b[1;32m      4\u001b[0m c \u001b[39m=\u001b[39m \u001b[39m0\u001b[39m\n\u001b[1;32m      5\u001b[0m \u001b[39mwhile\u001b[39;00m k \u001b[39m>\u001b[39m \u001b[39m0\u001b[39m:\n\u001b[0;32m----> 6\u001b[0m     \u001b[39mif\u001b[39;00m MillerRabinTest(p) \u001b[39m==\u001b[39m \u001b[39mFalse\u001b[39;00m:\n\u001b[1;32m      7\u001b[0m         \u001b[39mreturn\u001b[39;00m \u001b[39mFalse\u001b[39;00m\n\u001b[1;32m      8\u001b[0m     k \u001b[39m-\u001b[39m\u001b[39m=\u001b[39m \u001b[39m1\u001b[39m\n",
      "Cell \u001b[0;32mIn [6], line 22\u001b[0m, in \u001b[0;36mMillerRabinTest\u001b[0;34m(p)\u001b[0m\n\u001b[1;32m     19\u001b[0m     r \u001b[39m+\u001b[39m\u001b[39m=\u001b[39m \u001b[39m1\u001b[39m\n\u001b[1;32m     20\u001b[0m a \u001b[39m=\u001b[39m random\u001b[39m.\u001b[39mrandint(\u001b[39m2\u001b[39m, p \u001b[39m-\u001b[39m \u001b[39m1\u001b[39m)\n\u001b[0;32m---> 22\u001b[0m x \u001b[39m=\u001b[39m \u001b[39mpow\u001b[39;49m(a, d, p)\n\u001b[1;32m     24\u001b[0m \u001b[39mif\u001b[39;00m x \u001b[39m==\u001b[39m \u001b[39m1\u001b[39m \u001b[39mor\u001b[39;00m x \u001b[39m==\u001b[39m p \u001b[39m-\u001b[39m \u001b[39m1\u001b[39m:\n\u001b[1;32m     25\u001b[0m     \u001b[39mreturn\u001b[39;00m \u001b[39mTrue\u001b[39;00m\n",
      "\u001b[0;31mKeyboardInterrupt\u001b[0m: "
     ]
    }
   ],
   "source": [
    "%time generatePrimeNumber(600)"
   ]
  }
 ],
 "metadata": {
  "kernelspec": {
   "display_name": "Python 3.8.10 64-bit",
   "language": "python",
   "name": "python3"
  },
  "language_info": {
   "codemirror_mode": {
    "name": "ipython",
    "version": 3
   },
   "file_extension": ".py",
   "mimetype": "text/x-python",
   "name": "python",
   "nbconvert_exporter": "python",
   "pygments_lexer": "ipython3",
   "version": "3.8.10"
  },
  "orig_nbformat": 4,
  "vscode": {
   "interpreter": {
    "hash": "916dbcbb3f70747c44a77c7bcd40155683ae19c65e1c03b4aa3499c5328201f1"
   }
  }
 },
 "nbformat": 4,
 "nbformat_minor": 2
}
